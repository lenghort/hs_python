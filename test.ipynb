{
 "cells": [
  {
   "cell_type": "markdown",
   "metadata": {},
   "source": [
    "## Commenting"
   ]
  },
  {
   "cell_type": "code",
   "execution_count": 29,
   "metadata": {},
   "outputs": [
    {
     "name": "stdout",
     "output_type": "stream",
     "text": [
      "hello world\n",
      "from the other slide\n"
     ]
    },
    {
     "data": {
      "text/plain": [
       "'\\ncomment in here\\n'"
      ]
     },
     "execution_count": 29,
     "metadata": {},
     "output_type": "execute_result"
    }
   ],
   "source": [
    "print(\"hello world\") # in-line comment\n",
    "print(\"from the other slide\")\n",
    "\n",
    "\"\"\"\n",
    "comment in here\n",
    "\"\"\""
   ]
  },
  {
   "cell_type": "code",
   "execution_count": 30,
   "metadata": {},
   "outputs": [
    {
     "name": "stdout",
     "output_type": "stream",
     "text": [
      "hello world\n",
      "hello world ! 123\n",
      "hello+world+!+123\n",
      "hello\n",
      "world\n",
      "!\n",
      "123\n"
     ]
    }
   ],
   "source": [
    "print(\"hello world\")\n",
    "print(\"hello\", \"world\", \"!\", \"123\")\n",
    "print(\"hello\", \"world\", \"!\", \"123\", sep=\"+\")\n",
    "print(\"hello\", \"world\", \"!\", \"123\", sep=\"\\n\")"
   ]
  },
  {
   "cell_type": "markdown",
   "metadata": {},
   "source": [
    "## Data type"
   ]
  },
  {
   "cell_type": "markdown",
   "metadata": {},
   "source": [
    "1. integer - int\n",
    "2. floating point - float\n",
    "3. string - str\n",
    "4. boolean - bool\n",
    "5. nonetype - None\n"
   ]
  },
  {
   "cell_type": "code",
   "execution_count": 31,
   "metadata": {},
   "outputs": [],
   "source": [
    "# int\n",
    "1, 2, 0, -1, -5, -0\n",
    "int()\n",
    "\n",
    "# float\n",
    "1.5, -2.4, 3.14, 0.0\n",
    "float()\n",
    "\n",
    "# string\n",
    "\"can write anything\"\n",
    "str()\n",
    "\n",
    "# boolean\n",
    "True, False\n",
    "bool()\n",
    "\n",
    "# Nonetypes\n",
    "None\n"
   ]
  },
  {
   "cell_type": "markdown",
   "metadata": {},
   "source": [
    "## Type Checking"
   ]
  },
  {
   "cell_type": "code",
   "execution_count": 32,
   "metadata": {},
   "outputs": [
    {
     "name": "stdout",
     "output_type": "stream",
     "text": [
      "<class 'float'>\n"
     ]
    },
    {
     "data": {
      "text/plain": [
       "False"
      ]
     },
     "execution_count": 32,
     "metadata": {},
     "output_type": "execute_result"
    }
   ],
   "source": [
    "type(0.0) #for ipynb\n",
    "\n",
    "print(type(0.0)) #for py\n",
    "\n",
    "isinstance(-1, int)\n",
    "\n",
    "isinstance(-1, str)"
   ]
  },
  {
   "cell_type": "markdown",
   "metadata": {},
   "source": [
    "## Day3"
   ]
  },
  {
   "cell_type": "code",
   "execution_count": 33,
   "metadata": {},
   "outputs": [
    {
     "name": "stdout",
     "output_type": "stream",
     "text": [
      "Ly is 20 years old.\n"
     ]
    },
    {
     "data": {
      "text/plain": [
       "' \\nname your variable meaningful and understandable\\n'"
      ]
     },
     "execution_count": 33,
     "metadata": {},
     "output_type": "execute_result"
    }
   ],
   "source": [
    "firstname = \"Ly\"\n",
    "age = 20\n",
    "print(firstname, \"is\", age, \"years old.\")\n",
    "\n",
    "\"\"\" \n",
    "name your variable meaningful and understandable\n",
    "\"\"\""
   ]
  },
  {
   "cell_type": "code",
   "execution_count": 34,
   "metadata": {},
   "outputs": [],
   "source": [
    "name = \"hort\" # ok!\n",
    "Age = 17 #bad\n",
    "first_name = 1 #ok!\n",
    "# 1var = 1 #bad\n",
    "#_1var = 2 #bad\n",
    "# reserved variable (should not use)"
   ]
  },
  {
   "cell_type": "markdown",
   "metadata": {},
   "source": [
    "## Input"
   ]
  },
  {
   "cell_type": "code",
   "execution_count": 35,
   "metadata": {},
   "outputs": [
    {
     "name": "stdout",
     "output_type": "stream",
     "text": [
      "hello, wellcome hort\n"
     ]
    }
   ],
   "source": [
    "name_input = input()\n",
    "print(\"hello, wellcome\", name_input)"
   ]
  },
  {
   "cell_type": "code",
   "execution_count": 42,
   "metadata": {},
   "outputs": [
    {
     "name": "stdout",
     "output_type": "stream",
     "text": [
      "-2 <class 'int'>\n"
     ]
    }
   ],
   "source": [
    "# int()\n",
    "#a = int(\"4\")\n",
    "#a = int(\"-1\")\n",
    "#a = int(True)\n",
    "#a = int(\"True\")\n",
    "#a = int(2.4)\n",
    "a = int(-2.4)\n",
    "#a = int(\"2.4\")\n",
    "#a = int(\"-3.4\")\n",
    "print(a, type(a))\n"
   ]
  },
  {
   "cell_type": "code",
   "execution_count": 44,
   "metadata": {},
   "outputs": [
    {
     "name": "stdout",
     "output_type": "stream",
     "text": [
      "2.0 <class 'float'>\n"
     ]
    }
   ],
   "source": [
    "# float()\n",
    "a = float(2)\n",
    "#a = float(2.4)\n",
    "a = float(True)\n",
    "a = float(False)\n",
    "print(a, type(a))"
   ]
  },
  {
   "cell_type": "code",
   "execution_count": null,
   "metadata": {},
   "outputs": [],
   "source": [
    "# bool()\n",
    "a = bool(1)\n",
    "a = bool (3)\n",
    "a = bool (-2)\n",
    "a = bool (0)\n",
    "a = bool (\"\")\n",
    "a = bool (None)\n",
    "print(a, type(a))\n"
   ]
  },
  {
   "cell_type": "code",
   "execution_count": null,
   "metadata": {},
   "outputs": [],
   "source": [
    "# str()\n",
    "a = str(1)\n",
    "a = str(True)\n",
    "a = str(2.5)\n",
    "a = str(None)\n",
    "a = str(print())\n",
    "print(a, type(a))"
   ]
  },
  {
   "cell_type": "code",
   "execution_count": null,
   "metadata": {},
   "outputs": [],
   "source": [
    "def test():\n",
    "    return \"hi\"\n",
    "\n",
    "str(test)\n",
    "str(test())"
   ]
  },
  {
   "cell_type": "code",
   "execution_count": 45,
   "metadata": {},
   "outputs": [
    {
     "name": "stdout",
     "output_type": "stream",
     "text": [
      "True <class 'bool'>\n"
     ]
    }
   ],
   "source": [
    "a = bool(str(float(-2)))\n",
    "print(a, type(a))"
   ]
  },
  {
   "cell_type": "markdown",
   "metadata": {},
   "source": [
    "## Math Operation"
   ]
  },
  {
   "cell_type": "code",
   "execution_count": 48,
   "metadata": {},
   "outputs": [
    {
     "name": "stdout",
     "output_type": "stream",
     "text": [
      "2,3,20,2,2,8,1\n"
     ]
    }
   ],
   "source": [
    "a = 1 + 1\n",
    "b = 6 - 3\n",
    "c = 4 * 5\n",
    "d = 6 / 3\n",
    "e = 6 // 3 \n",
    "# 2 * 2 * 2 = 2 ** 3\n",
    "f = 2 ** 3\n",
    "g = 10 % 3 # find remain\n",
    "print(a, b, c, int(d), e, f, g, sep=\",\")"
   ]
  },
  {
   "cell_type": "code",
   "execution_count": 49,
   "metadata": {},
   "outputs": [
    {
     "data": {
      "text/plain": [
       "12.0"
      ]
     },
     "execution_count": 49,
     "metadata": {},
     "output_type": "execute_result"
    }
   ],
   "source": [
    "# 12.9 -> 12.0\n",
    "float(int(12.9))\n",
    "12.9 // 1"
   ]
  },
  {
   "cell_type": "markdown",
   "metadata": {},
   "source": [
    "## Order of operations\n"
   ]
  },
  {
   "cell_type": "code",
   "execution_count": null,
   "metadata": {},
   "outputs": [],
   "source": [
    "# () -> ** -> */% -> +-\n",
    "# PEMDAS\n",
    "2 * 2 - 2 / 2 - 2 ** 2\n",
    "2 * 2 - "
   ]
  }
 ],
 "metadata": {
  "kernelspec": {
   "display_name": "hs_lenghortly",
   "language": "python",
   "name": "python3"
  },
  "language_info": {
   "codemirror_mode": {
    "name": "ipython",
    "version": 3
   },
   "file_extension": ".py",
   "mimetype": "text/x-python",
   "name": "python",
   "nbconvert_exporter": "python",
   "pygments_lexer": "ipython3",
   "version": "3.12.5"
  }
 },
 "nbformat": 4,
 "nbformat_minor": 2
}
